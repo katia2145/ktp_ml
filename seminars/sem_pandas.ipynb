{
  "cells": [
    {
      "attachments": {},
      "cell_type": "markdown",
      "metadata": {
        "id": "UkLwIyDqZW-e"
      },
      "source": [
        "<center><img src=\"ktp_logo.png\" width=400 style=\"display: inline-block;\"></center> \n",
        "\n",
        "## Машинное обучение\n",
        "### Семинар 2. Введение в библиотеку Pandas\n",
        "\n",
        "### 19 октября 2023"
      ]
    },
    {
      "cell_type": "markdown",
      "metadata": {
        "id": "ChvYru-EKEa7"
      },
      "source": [
        "#### Зачем:\n",
        "* Для подготовки данных к анализу: очищение, заполнение пропусков, сортировка, добавление новых столбцов и т.д.\n",
        "* Для первичного анализа данных\n",
        "\n",
        "#### Почему:\n",
        "* Построена поверх более низкоуровневой библиотеки NumPy (написана на Си)"
      ]
    },
    {
      "cell_type": "code",
      "execution_count": null,
      "metadata": {
        "id": "g5YZv3pmZW-o"
      },
      "outputs": [],
      "source": [
        "import numpy as np\n",
        "import pandas as pd"
      ]
    },
    {
      "attachments": {},
      "cell_type": "markdown",
      "metadata": {
        "id": "Zw6_T-yiZW-s"
      },
      "source": [
        "## Структуры данных в Pandas\n",
        "# Series\n",
        "Одномерный массив, который может хранить значения любого типа данных. Seria отличается от обычного Python-массива наличием ассоциированных меток, т.е. наличием индексов, имеющих вдоль каждого элемента из списка\n",
        "\n",
        "\n",
        "### Создание"
      ]
    },
    {
      "cell_type": "code",
      "execution_count": null,
      "metadata": {
        "id": "bI2M8ejwZW-t"
      },
      "outputs": [],
      "source": [
        "some_list = [1, 3, 5, np.nan, 6, 8]\n",
        "ser_1 = pd.Series(some_list)\n",
        "ser_1"
      ]
    },
    {
      "cell_type": "code",
      "execution_count": null,
      "metadata": {},
      "outputs": [],
      "source": [
        "some_dict = {'a' : 1, 'b' : 2, 'c' : 3, 'd' : 4}\n",
        "ser = pd.Series(some_dict)\n",
        "ser"
      ]
    },
    {
      "cell_type": "code",
      "execution_count": null,
      "metadata": {
        "id": "CtTy0kkEKEbX"
      },
      "outputs": [],
      "source": [
        "print(some_list, \"\\n\")\n",
        "ind = ['1st day', '2nd day', '3rd day', '4th day', '5rd day', '6th day']\n",
        "ser_2 = pd.Series(some_list, index=ind)\n",
        "ser_2"
      ]
    },
    {
      "cell_type": "code",
      "execution_count": null,
      "metadata": {
        "id": "c0oiu9rRKEbh",
        "scrolled": true
      },
      "outputs": [],
      "source": [
        "ser_3 = pd.Series(some_list, index=ind, name='Temperature')\n",
        "ser_3"
      ]
    },
    {
      "cell_type": "markdown",
      "metadata": {
        "id": "IV5MDy4uZW_C"
      },
      "source": [
        "### Индексирование\n",
        "С индексами можно работать так же, как и в случае с обычным list."
      ]
    },
    {
      "cell_type": "code",
      "execution_count": null,
      "metadata": {
        "id": "EeNoPJxeKEbl"
      },
      "outputs": [],
      "source": [
        "print(ser_3)\n",
        "print('-----')\n",
        "print(ser_3[0])\n",
        "\n",
        "print('-----------')\n",
        "\n",
        "print(ser_3[1:3])\n",
        "\n",
        "print('-----------')\n",
        "\n",
        "print(ser_3[::2])\n",
        "print('-----------')"
      ]
    },
    {
      "cell_type": "code",
      "execution_count": null,
      "metadata": {},
      "outputs": [],
      "source": [
        "ser_3[2:5] = 4.0\n",
        "ser_3"
      ]
    },
    {
      "cell_type": "markdown",
      "metadata": {
        "id": "GSHqJDTUZW_I"
      },
      "source": [
        "### Индексирование pd.Series по условиям"
      ]
    },
    {
      "cell_type": "code",
      "execution_count": null,
      "metadata": {
        "id": "oz4pJ00pKEcE"
      },
      "outputs": [],
      "source": [
        "date_range = pd.date_range('20230101', periods=10)\n",
        "\n",
        "ser_4 = pd.Series(np.random.rand(10), index=date_range)\n",
        "ser_4\n"
      ]
    },
    {
      "cell_type": "code",
      "execution_count": null,
      "metadata": {
        "id": "-2tVHwwoKEcJ"
      },
      "outputs": [],
      "source": [
        "ser_4 > 0.5"
      ]
    },
    {
      "cell_type": "markdown",
      "metadata": {
        "id": "TqFAOBKaKEcO"
      },
      "source": [
        "В качестве индекса можно указать выражение, и нам будут возвращены только те элементы, для которых значение является `True`"
      ]
    },
    {
      "cell_type": "code",
      "execution_count": null,
      "metadata": {
        "id": "XL2kbqXeKEcO"
      },
      "outputs": [],
      "source": [
        "ser_4[ser_4 > 0.5]"
      ]
    },
    {
      "cell_type": "code",
      "execution_count": null,
      "metadata": {
        "id": "tSlzr1kqKEcX"
      },
      "outputs": [],
      "source": [
        "ser_4[(ser_4 > 0.6) | (ser_4 < 0.2)]"
      ]
    },
    {
      "cell_type": "markdown",
      "metadata": {
        "id": "6AGQx7lFKEbp"
      },
      "source": [
        "### Сортировки\n",
        "Тип `pd.Series` можно отсортировать как по значениям, так и по индексу."
      ]
    },
    {
      "cell_type": "code",
      "execution_count": null,
      "metadata": {
        "id": "lWUR7nrIKEbq"
      },
      "outputs": [],
      "source": [
        "ser_4.sort_index(ascending=False)"
      ]
    },
    {
      "cell_type": "code",
      "execution_count": null,
      "metadata": {
        "id": "Z5fR1a1vKEbv"
      },
      "outputs": [],
      "source": [
        "ser_4 = ser_4.sort_values()"
      ]
    },
    {
      "cell_type": "code",
      "execution_count": null,
      "metadata": {
        "id": "NyT47vPl2qpV"
      },
      "outputs": [],
      "source": [
        "ser_4"
      ]
    },
    {
      "cell_type": "markdown",
      "metadata": {
        "id": "WdMZMJLVKEb0"
      },
      "source": [
        "### Операции с series\n",
        "Тип `pd.Series` можно модифицировать проще, чем стандартный ``list`` из Python."
      ]
    },
    {
      "cell_type": "code",
      "execution_count": null,
      "metadata": {
        "id": "_61Xk26QKEb0",
        "scrolled": true
      },
      "outputs": [],
      "source": [
        "ser_4 + 100"
      ]
    },
    {
      "cell_type": "code",
      "execution_count": null,
      "metadata": {
        "id": "M3EphsCcKEb4"
      },
      "outputs": [],
      "source": [
        "np.exp(ser_4)"
      ]
    },
    {
      "cell_type": "code",
      "execution_count": null,
      "metadata": {
        "id": "_en6VrNEKEb8"
      },
      "outputs": [],
      "source": [
        "term_1 = pd.Series(np.random.randint(0, 10, 5))\n",
        "term_2 = pd.Series(np.random.randint(0, 10, 7))\n",
        "\n",
        "print(term_1)\n",
        "print(term_2)\n",
        "print('------')\n",
        "print(term_1 + term_2)\n"
      ]
    },
    {
      "cell_type": "code",
      "execution_count": null,
      "metadata": {
        "id": "3oy9-zRjKEcA"
      },
      "outputs": [],
      "source": [
        "print(term_1.shape)\n",
        "print(term_1.index)\n",
        "print(term_1.values)"
      ]
    },
    {
      "cell_type": "markdown",
      "metadata": {},
      "source": [
        "#### Добавление элемента/серии в серию"
      ]
    },
    {
      "cell_type": "code",
      "execution_count": null,
      "metadata": {},
      "outputs": [],
      "source": [
        "term_1[len(term_1)] = 8\n",
        "term_1"
      ]
    },
    {
      "cell_type": "code",
      "execution_count": null,
      "metadata": {},
      "outputs": [],
      "source": [
        "term_3 = pd.concat([term_1, term_2])\n",
        "term_3"
      ]
    },
    {
      "cell_type": "markdown",
      "metadata": {
        "id": "EMgxxnXLZW_0"
      },
      "source": [
        "# pd.DataFrame\n",
        "\n",
        "Тип данных pd.DataFrame представляет собой двумерный массив с данными. Имеет индекс и набор столбцов (возможно, имеющих разные типы). Таблицу можно построить, например, из словаря, значениями в котором являются одномерные наборы данных.\n",
        "### Создание"
      ]
    },
    {
      "cell_type": "code",
      "execution_count": null,
      "metadata": {
        "id": "b92QAcDQZW_1"
      },
      "outputs": [],
      "source": [
        "some_dict = {'one': pd.Series([1,2,3], index=['a','b','c']),\n",
        "             'two': pd.Series([1,2,3,4], index=['a','b','c','d']),\n",
        "             'three': pd.Series([5,6,7,8], index=['a','b','c','d'])}\n",
        "df = pd.DataFrame(some_dict)\n",
        "df"
      ]
    },
    {
      "cell_type": "code",
      "execution_count": null,
      "metadata": {
        "id": "DGnYePCpZW_4"
      },
      "outputs": [],
      "source": [
        "#Альтернативно, из списка списков с аргументом columns\n",
        "\n",
        "some_array = [[1,1,5], [2,2,6], [3,3,7], [np.nan, 4,np.nan]]\n",
        "df = pd.DataFrame(some_array, index=['a', 'b', 'c', 'd'], columns=['one', 'two', 'three'])\n",
        "df"
      ]
    },
    {
      "cell_type": "markdown",
      "metadata": {},
      "source": [
        "### Обращение к основным элементам\n",
        "- `df.values` позволяет обратиться к значениям `DataFrame`\n",
        "- `df.columns` позволяет обратиться к названиям колонок `DataFrame`\n",
        "- `df.index` позволяет обратиться к индексам `DataFrame`"
      ]
    },
    {
      "cell_type": "code",
      "execution_count": null,
      "metadata": {
        "id": "dgFLY8UjZW_8"
      },
      "outputs": [],
      "source": [
        "df.values"
      ]
    },
    {
      "cell_type": "code",
      "execution_count": null,
      "metadata": {
        "id": "YOPjWvpPZW__"
      },
      "outputs": [],
      "source": [
        "df.columns"
      ]
    },
    {
      "cell_type": "code",
      "execution_count": null,
      "metadata": {},
      "outputs": [],
      "source": [
        "df.index"
      ]
    },
    {
      "cell_type": "code",
      "execution_count": null,
      "metadata": {
        "id": "DF4NizSiZXAC"
      },
      "outputs": [],
      "source": [
        "df.columns = ['first_column', 'second_column', 'third_column']\n",
        "df.index = [1,2,3,4]\n",
        "df"
      ]
    },
    {
      "cell_type": "markdown",
      "metadata": {
        "id": "igVwR60BZXAH"
      },
      "source": [
        "### Индексирование\n",
        "- По колонкам\n",
        "- По строкам\n",
        "- iloc, loc\n",
        "\n",
        "#### По колонкам\n"
      ]
    },
    {
      "cell_type": "code",
      "execution_count": null,
      "metadata": {
        "id": "EKc3GHIIZXAI"
      },
      "outputs": [],
      "source": [
        "first_column = df['first_column']\n",
        "first_column"
      ]
    },
    {
      "cell_type": "code",
      "execution_count": null,
      "metadata": {
        "id": "HknUyy3_ui59"
      },
      "outputs": [],
      "source": [
        "df.second_column"
      ]
    },
    {
      "cell_type": "code",
      "execution_count": null,
      "metadata": {},
      "outputs": [],
      "source": [
        "one_column_dataframe = df[['first_column']]\n",
        "one_column_dataframe"
      ]
    },
    {
      "cell_type": "code",
      "execution_count": null,
      "metadata": {
        "id": "qWPr1WuzZXAM"
      },
      "outputs": [],
      "source": [
        "subset_dataframe = df[['first_column', 'second_column']]\n",
        "subset_dataframe"
      ]
    },
    {
      "cell_type": "markdown",
      "metadata": {
        "id": "X5j_j4a0ZXAO"
      },
      "source": [
        "#### По строкам"
      ]
    },
    {
      "cell_type": "code",
      "execution_count": null,
      "metadata": {
        "id": "avfKJfeNZXAP"
      },
      "outputs": [],
      "source": [
        "df[1]"
      ]
    },
    {
      "cell_type": "code",
      "execution_count": null,
      "metadata": {
        "id": "KAynoccTZXAT"
      },
      "outputs": [],
      "source": [
        "df[:1]"
      ]
    },
    {
      "cell_type": "code",
      "execution_count": null,
      "metadata": {
        "id": "BE2ACIw9ZXAX"
      },
      "outputs": [],
      "source": [
        "df[0:4]"
      ]
    },
    {
      "cell_type": "markdown",
      "metadata": {
        "id": "_nAgxLhvZXAa"
      },
      "source": [
        "#### Универсальное индексирование: .loc и .iloc\n",
        "\n",
        ".loc и .iloc --- это два взаимозаменяемых атрибута, которые позволяют индексировать по обеим осям сразу. Путаницы не возникает из-за фиксированного порядка перечисления осей."
      ]
    },
    {
      "cell_type": "code",
      "execution_count": null,
      "metadata": {
        "id": "vnqS2YQSZXAb"
      },
      "outputs": [],
      "source": [
        "# По индексам:\n",
        "df.iloc[1:3, :2]"
      ]
    },
    {
      "cell_type": "code",
      "execution_count": null,
      "metadata": {
        "id": "zYFDmyKuZXAe"
      },
      "outputs": [],
      "source": [
        "df.loc[1:3, ['first_column', 'second_column']]"
      ]
    },
    {
      "cell_type": "markdown",
      "metadata": {
        "id": "5CNJP5R9ZXAi"
      },
      "source": [
        "### Cоздание новых колонок, строк\n",
        "#### Добавление серии/датафрейма в датафрейм"
      ]
    },
    {
      "cell_type": "code",
      "execution_count": null,
      "metadata": {
        "id": "6kaeuYv5ZXAi"
      },
      "outputs": [],
      "source": [
        "df"
      ]
    },
    {
      "cell_type": "code",
      "execution_count": null,
      "metadata": {},
      "outputs": [],
      "source": [
        "new_col = []\n",
        "for i in range(len(df)):\n",
        "    new_col.append(i)\n",
        "df['new_column'] = new_col\n",
        "df"
      ]
    },
    {
      "cell_type": "code",
      "execution_count": null,
      "metadata": {},
      "outputs": [],
      "source": [
        "new_row = []\n",
        "for i in range(df.shape[1]):\n",
        "    new_row.append(i)\n",
        "\n",
        "df.loc[len(df)+1] = new_row\n",
        "df"
      ]
    },
    {
      "cell_type": "code",
      "execution_count": null,
      "metadata": {},
      "outputs": [],
      "source": [
        "# Добавление серии как новую колонку\n",
        "ser = pd.Series({'a' : 5, 'b' : 100, 'c' : 10000000})\n",
        "print(ser)\n",
        "df['four'] = ser\n",
        "df"
      ]
    },
    {
      "cell_type": "code",
      "execution_count": null,
      "metadata": {},
      "outputs": [],
      "source": [
        "# Добавление серии как новую строку\n",
        "ser_1 = pd.Series({'two' : 7, 'three' : 666, 'four' : 909, 'five' : 89898})\n",
        "df.loc[len(df) + 1] = ser_1\n",
        "df\n"
      ]
    },
    {
      "cell_type": "code",
      "execution_count": null,
      "metadata": {},
      "outputs": [],
      "source": [
        "# Добавление датафрейма\n",
        "df = pd.concat([df, df], axis=0, ignore_index=True)\n",
        "df\n"
      ]
    },
    {
      "cell_type": "markdown",
      "metadata": {},
      "source": [
        "#### Операции над pd.DataFrame"
      ]
    },
    {
      "cell_type": "code",
      "execution_count": null,
      "metadata": {
        "id": "9mHh66JYZXAm"
      },
      "outputs": [],
      "source": [
        "df['first_column'] = df['first_column'] * 10\n",
        "df[:1] = df[:1] * 100\n",
        "df"
      ]
    },
    {
      "attachments": {},
      "cell_type": "markdown",
      "metadata": {
        "id": "RFRifpW7ZXAq"
      },
      "source": [
        "## Реальный датасет\n",
        "### Чтение из файла"
      ]
    },
    {
      "cell_type": "code",
      "execution_count": null,
      "metadata": {
        "id": "09s-lp8cZXAr",
        "scrolled": false
      },
      "outputs": [],
      "source": [
        "# df_1 = pd.read_csv('titanic_data.csv')\n",
        "pass_link = 'https://www.dropbox.com/s/lyzcuxu1pdrw5qb/titanic_data.csv?dl=1'\n",
        "titanic_passengers = pd.read_csv(pass_link) # index_col=?"
      ]
    },
    {
      "cell_type": "code",
      "execution_count": null,
      "metadata": {
        "id": "tK0Q-0SwZXAu"
      },
      "outputs": [],
      "source": [
        "titanic_passengers.head(10)"
      ]
    },
    {
      "cell_type": "markdown",
      "metadata": {
        "id": "ctQdw9QJKEdS"
      },
      "source": [
        "### Разная информация о датасете"
      ]
    },
    {
      "cell_type": "code",
      "execution_count": null,
      "metadata": {
        "id": "KV2UGt9KKEdS"
      },
      "outputs": [],
      "source": [
        "titanic_passengers.shape"
      ]
    },
    {
      "cell_type": "code",
      "execution_count": null,
      "metadata": {
        "id": "0oYzDhBpKEdW",
        "scrolled": false
      },
      "outputs": [],
      "source": [
        "titanic_passengers.info()"
      ]
    },
    {
      "cell_type": "code",
      "execution_count": null,
      "metadata": {
        "id": "hwIV2xUNZXA4"
      },
      "outputs": [],
      "source": [
        "titanic_passengers.describe()"
      ]
    },
    {
      "cell_type": "code",
      "execution_count": null,
      "metadata": {},
      "outputs": [],
      "source": [
        "titanic_passengers.columns"
      ]
    },
    {
      "cell_type": "markdown",
      "metadata": {},
      "source": [
        "#### Поиск уникальных значений"
      ]
    },
    {
      "cell_type": "code",
      "execution_count": null,
      "metadata": {},
      "outputs": [],
      "source": [
        "titanic_passengers['Age'].unique()"
      ]
    },
    {
      "cell_type": "markdown",
      "metadata": {},
      "source": [
        "#### Подсчёт значений"
      ]
    },
    {
      "cell_type": "code",
      "execution_count": null,
      "metadata": {},
      "outputs": [],
      "source": [
        "titanic_passengers['Sex'].value_counts()"
      ]
    },
    {
      "cell_type": "markdown",
      "metadata": {},
      "source": [
        "#### Приведение данных к другому типу"
      ]
    },
    {
      "cell_type": "code",
      "execution_count": null,
      "metadata": {},
      "outputs": [],
      "source": [
        "titanic_passengers['female'] = titanic_passengers['Sex'] == 'female' \n",
        "titanic_passengers"
      ]
    },
    {
      "cell_type": "code",
      "execution_count": null,
      "metadata": {},
      "outputs": [],
      "source": [
        "titanic_passengers['female'] = titanic_passengers['female'].astype('int64')\n",
        "titanic_passengers"
      ]
    },
    {
      "cell_type": "markdown",
      "metadata": {},
      "source": [
        "#### Удаление столбца"
      ]
    },
    {
      "cell_type": "code",
      "execution_count": null,
      "metadata": {},
      "outputs": [],
      "source": [
        "titanic_passengers.drop(['Sex'], axis = 1, inplace=True)"
      ]
    },
    {
      "cell_type": "markdown",
      "metadata": {},
      "source": [
        "#### Сортировка"
      ]
    },
    {
      "cell_type": "code",
      "execution_count": null,
      "metadata": {},
      "outputs": [],
      "source": [
        "titanic_passengers.sort_values(by=['Age', 'Pclass'], ascending=[True, False]).head(10)"
      ]
    },
    {
      "cell_type": "markdown",
      "metadata": {},
      "source": [
        "#### Группировка"
      ]
    },
    {
      "cell_type": "code",
      "execution_count": null,
      "metadata": {},
      "outputs": [],
      "source": [
        "titanic_passengers.groupby('female')['Age'].mean()"
      ]
    },
    {
      "cell_type": "code",
      "execution_count": null,
      "metadata": {},
      "outputs": [],
      "source": [
        "titanic_passengers.groupby(by = ['female', 'Pclass'])['Ticket'].agg(['count'])"
      ]
    }
  ],
  "metadata": {
    "colab": {
      "provenance": []
    },
    "kernelspec": {
      "display_name": "Python 3",
      "language": "python",
      "name": "python3"
    },
    "language_info": {
      "codemirror_mode": {
        "name": "ipython",
        "version": 3
      },
      "file_extension": ".py",
      "mimetype": "text/x-python",
      "name": "python",
      "nbconvert_exporter": "python",
      "pygments_lexer": "ipython3",
      "version": "3.11.0"
    }
  },
  "nbformat": 4,
  "nbformat_minor": 0
}
